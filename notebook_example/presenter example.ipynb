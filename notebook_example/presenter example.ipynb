{
 "metadata": {
  "name": "presenter example"
 },
 "nbformat": 3,
 "nbformat_minor": 0,
 "worksheets": [
  {
   "cells": [
    {
     "cell_type": "code",
     "collapsed": true,
     "input": [
      "#if this is the presenter notebook set True\n",
      "#this computer should then be runing the clicker_server\n",
      "#if clicker_nb_tools is not present, switch to non presenter mode\n",
      "\n",
      "presenter_version = True\n",
      "try:\n",
      "    from clicker_nb_tools import ask\n",
      "except ImportError:\n",
      "    presenter_version = False\n",
      "    \n",
      "if not presenter_version:\n",
      "    #replace with a dummy ask() function\n",
      "    def ask(*args,**kwargs):\n",
      "        print 'client notebook'\n",
      "        return None"
     ],
     "language": "python",
     "metadata": {},
     "outputs": [],
     "prompt_number": 52
    },
    {
     "cell_type": "markdown",
     "metadata": {},
     "source": [
      "What is your favorite color ?\n",
      "\n",
      "A. Red\n",
      "\n",
      "B. Blue\n",
      "\n",
      "C. oh no, Red !"
     ]
    },
    {
     "cell_type": "code",
     "collapsed": false,
     "input": [
      "ask('a,b,c',sec=5)"
     ],
     "language": "python",
     "metadata": {},
     "outputs": [
      {
       "output_type": "display_data",
       "png": "[encoded data removed]"
      }
     ],
     "prompt_number": 54
    },
    {
     "cell_type": "code",
     "collapsed": true,
     "input": [],
     "language": "python",
     "metadata": {},
     "outputs": [],
     "prompt_number": 42
    },
    {
     "cell_type": "code",
     "collapsed": true,
     "input": [],
     "language": "python",
     "metadata": {},
     "outputs": []
    }
   ],
   "metadata": {}
  }
 ]
}